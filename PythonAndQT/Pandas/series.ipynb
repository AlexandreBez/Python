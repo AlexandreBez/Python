{
 "cells": [
  {
   "cell_type": "code",
   "execution_count": 2,
   "id": "20824ba2",
   "metadata": {},
   "outputs": [],
   "source": [
    "import numpy as np\n",
    "import pandas as pd"
   ]
  },
  {
   "cell_type": "code",
   "execution_count": 23,
   "id": "9a667e53",
   "metadata": {},
   "outputs": [],
   "source": [
    "lista1 = ['a', 'b', 'c']\n",
    "lista2 = [1, 2, 3]\n",
    "arr = np.array([10, 20, 30])\n",
    "d = {'a':100, 'b':200, 'c':300}"
   ]
  },
  {
   "cell_type": "code",
   "execution_count": 24,
   "id": "cae3dcbb",
   "metadata": {},
   "outputs": [
    {
     "data": {
      "text/plain": [
       "a    1\n",
       "b    2\n",
       "c    3\n",
       "dtype: int64"
      ]
     },
     "execution_count": 24,
     "metadata": {},
     "output_type": "execute_result"
    }
   ],
   "source": [
    "pd.Series(data = lista2, index = lista1)"
   ]
  },
  {
   "cell_type": "code",
   "execution_count": 25,
   "id": "985bbf98",
   "metadata": {},
   "outputs": [
    {
     "data": {
      "text/plain": [
       "a    1\n",
       "b    2\n",
       "c    3\n",
       "dtype: int64"
      ]
     },
     "execution_count": 25,
     "metadata": {},
     "output_type": "execute_result"
    }
   ],
   "source": [
    "pd.Series(lista2, lista1)"
   ]
  },
  {
   "cell_type": "code",
   "execution_count": 26,
   "id": "ac0ef53e",
   "metadata": {},
   "outputs": [
    {
     "data": {
      "text/plain": [
       "0    10\n",
       "1    20\n",
       "2    30\n",
       "dtype: int32"
      ]
     },
     "execution_count": 26,
     "metadata": {},
     "output_type": "execute_result"
    }
   ],
   "source": [
    "pd.Series(arr)"
   ]
  },
  {
   "cell_type": "code",
   "execution_count": 28,
   "id": "4a204e0b",
   "metadata": {},
   "outputs": [
    {
     "data": {
      "text/plain": [
       "João     1\n",
       "Paulo    2\n",
       "Ignez    3\n",
       "dtype: int64"
      ]
     },
     "execution_count": 28,
     "metadata": {},
     "output_type": "execute_result"
    }
   ],
   "source": [
    "serie1 = pd.Series([1, 2, 3], index = ['João', 'Paulo', 'Ignez'])\n",
    "serie1"
   ]
  },
  {
   "cell_type": "code",
   "execution_count": 29,
   "id": "a3ea6c5a",
   "metadata": {},
   "outputs": [
    {
     "data": {
      "text/plain": [
       "1"
      ]
     },
     "execution_count": 29,
     "metadata": {},
     "output_type": "execute_result"
    }
   ],
   "source": [
    "serie1['João']"
   ]
  },
  {
   "cell_type": "code",
   "execution_count": null,
   "id": "08ce86ad",
   "metadata": {},
   "outputs": [],
   "source": []
  }
 ],
 "metadata": {
  "kernelspec": {
   "display_name": "Python 3 (ipykernel)",
   "language": "python",
   "name": "python3"
  },
  "language_info": {
   "codemirror_mode": {
    "name": "ipython",
    "version": 3
   },
   "file_extension": ".py",
   "mimetype": "text/x-python",
   "name": "python",
   "nbconvert_exporter": "python",
   "pygments_lexer": "ipython3",
   "version": "3.9.7"
  }
 },
 "nbformat": 4,
 "nbformat_minor": 5
}
